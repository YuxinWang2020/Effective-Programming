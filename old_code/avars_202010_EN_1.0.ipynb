{
 "cells": [
  {
   "cell_type": "code",
   "execution_count": null,
   "metadata": {},
   "outputs": [],
   "source": [
    "import pandas as pd\n",
    "import numpy as np\n",
    "import pickle"
   ]
  },
  {
   "cell_type": "code",
   "execution_count": null,
   "metadata": {},
   "outputs": [],
   "source": [
    "data = pd.read_pickle(\"../src/original_data/covid_data_2020_03.pickle\")\n",
    "data"
   ]
  },
  {
   "cell_type": "code",
   "execution_count": null,
   "metadata": {},
   "outputs": [],
   "source": [
    "#list(data.columns)"
   ]
  },
  {
   "cell_type": "code",
   "execution_count": null,
   "metadata": {},
   "outputs": [],
   "source": [
    "Q3 = data[['avoid_busy_places','avoid_public_places','maintain_distance','adjust_school_work','quarantine_symptoms', 'quarantine_no_symptoms','no_avoidance_behaviors']]\n",
    "Q3"
   ]
  },
  {
   "cell_type": "code",
   "execution_count": null,
   "metadata": {},
   "outputs": [],
   "source": [
    "Q3_none = Q3.query('no_avoidance_behaviors==1')\n",
    "Q3_none"
   ]
  },
  {
   "cell_type": "code",
   "execution_count": null,
   "metadata": {},
   "outputs": [],
   "source": [
    "Q3.insert(7,\"sum\", 0)\n",
    "Q3.loc[Q3['no_avoidance_behaviors']!=1, 'sum'] = Q3.loc[Q3['no_avoidance_behaviors']!=1,\n",
    "   ['avoid_busy_places','avoid_public_places','maintain_distance',\n",
    "    'adjust_school_work','quarantine_symptoms', 'quarantine_no_symptoms']].sum(axis='columns')"
   ]
  },
  {
   "cell_type": "code",
   "execution_count": null,
   "metadata": {},
   "outputs": [],
   "source": [
    "Q3"
   ]
  },
  {
   "cell_type": "code",
   "execution_count": null,
   "metadata": {},
   "outputs": [],
   "source": [
    "background = pd.read_pickle(\"../src/original_data/background_data_merged.pickle\")\n",
    "#print(list(background.columns))\n",
    "background"
   ]
  },
  {
   "cell_type": "code",
   "execution_count": null,
   "metadata": {},
   "outputs": [],
   "source": [
    "#list(background.columns)"
   ]
  },
  {
   "cell_type": "code",
   "execution_count": null,
   "metadata": {},
   "outputs": [],
   "source": [
    "select_background = background.loc[:, [\"age\",\"age_group\",\"female\",\"education_cbs\",\"hh_members\",\"hh_children\",\"dom_situation\",\"location_urban\"]].dropna(axis=0, how='any')\n",
    "select_background"
   ]
  },
  {
   "cell_type": "code",
   "execution_count": null,
   "metadata": {},
   "outputs": [],
   "source": [
    "merge_data = Q3.join(select_background, on=\"personal_id\", how=\"inner\")\n",
    "merge_data"
   ]
  },
  {
   "cell_type": "code",
   "execution_count": null,
   "metadata": {
    "scrolled": true
   },
   "outputs": [],
   "source": [
    "print(dict(enumerate(merge_data['age_group'].cat.categories)))\n",
    "dict(enumerate(merge_data['education_cbs'].cat.categories))"
   ]
  },
  {
   "cell_type": "code",
   "execution_count": null,
   "metadata": {},
   "outputs": [],
   "source": [
    "dict(enumerate(merge_data['dom_situation'].cat.categories))"
   ]
  },
  {
   "cell_type": "code",
   "execution_count": null,
   "metadata": {},
   "outputs": [],
   "source": [
    "dict(enumerate(merge_data['location_urban'].cat.categories))"
   ]
  },
  {
   "cell_type": "code",
   "execution_count": null,
   "metadata": {},
   "outputs": [],
   "source": [
    "merge_data['edu_index'] = merge_data['education_cbs'].cat.codes.replace({7:1,0:2,1:3,2:4,3:5,4:6,5:7,6:np.nan})\n",
    "merge_data['age_index'] = merge_data['age_group'].cat.codes.replace({0:1, 1:2, 2:3})\n",
    "merge_data['dom_situation_index'] = merge_data['dom_situation'].cat.codes.replace({2:1,3:1,4:1})\n",
    "merge_data['hh_members_dummy'] = (merge_data['hh_members']>1).astype(int)\n",
    "merge_data['hh_children_dummy'] = (merge_data['hh_children']>0).astype(int)\n",
    "merge_data['location_urban_index'] = 5 - merge_data['location_urban'].cat.codes\n",
    "merge_data['age'] = merge_data['age'].astype('int')\n",
    "merge_data.head(20)"
   ]
  },
  {
   "cell_type": "code",
   "execution_count": null,
   "metadata": {},
   "outputs": [],
   "source": [
    "# import matplotlib.pyplot as plt\n",
    "# from sklearn.linear_model import LinearRegression\n",
    "\n",
    "# y = merge_data.loc[:, \"sum\"]\n",
    "# x = merge_data.loc[:, ['age_code','edu_code','female']]\n",
    "\n",
    "# # y = y[:, np.newaxis]\n",
    "\n",
    "# model = LinearRegression()\n",
    "# model.fit(x, y)\n",
    "# predicts = model.predict(x)\n",
    "# R2 = model.score(x, y)\n",
    "# print('R2 = %.3f' % R2)\n",
    "# coef = model.coef_\n",
    "# intercept = model.intercept_ \n",
    "# print(model.coef_, model.intercept_)"
   ]
  },
  {
   "cell_type": "code",
   "execution_count": null,
   "metadata": {
    "tags": []
   },
   "outputs": [],
   "source": [
    "import statsmodels.api as sm\n",
    "import matplotlib.pyplot as plt\n",
    "\n",
    "y = merge_data.loc[:, \"sum\"]\n",
    "x = merge_data.loc[:, ['age_dummy','edu_dummy','female']]\n",
    "x = sm.add_constant(x) # add constant if need intercept\n",
    "model = sm.OLS(y, x).fit() # ols fit\n",
    "print(model.summary()) # print fit result\n",
    "\n",
    "# plot\n",
    "# predicts = model.predict() # predict y_hat\n",
    "# x = merge_data.loc[:, ['age_code']]\n",
    "# plt.scatter(x, y, label='y true') # point plot\n",
    "# plt.plot(x, predicts, color = 'red', label='y hat')\n",
    "# plt.legend()\n",
    "# plt.show()"
   ]
  },
  {
   "cell_type": "code",
   "execution_count": null,
   "metadata": {},
   "outputs": [],
   "source": [
    "\n",
    "y = merge_data.loc[:, \"sum\"]\n",
    "x = merge_data.loc[:, ['age','edu_index','female','dom_situation_index','hh_members_dummy','hh_children_dummy','location_urban_index']]\n",
    "x.insert(1,'age_square', merge_data.loc[:,'age'].pow(2))\n",
    "x.insert(2,'age_cube', merge_data.loc[:, 'age'].pow(3))\n",
    "\n",
    "x = sm.add_constant(x) # add constant if need intercept\n",
    "model = sm.OLS(y, x).fit() # ols fit\n",
    "print(model.summary()) # print fit result"
   ]
  },
  {
   "cell_type": "code",
   "execution_count": null,
   "metadata": {},
   "outputs": [],
   "source": [
    "\n",
    "y = merge_data.loc[:, \"sum\"]\n",
    "x = merge_data.loc[:, ['age_index','edu_index','female','dom_situation_index','hh_members_dummy','hh_children_dummy','location_urban_index']]\n",
    "x.insert(1,'age_index_square', merge_data.loc[:,'age_index'].pow(2))\n",
    "x.insert(2,'age_index_cube', merge_data.loc[:, 'age_index'].pow(3))\n",
    "\n",
    "x = sm.add_constant(x) # add constant if need intercept\n",
    "model = sm.OLS(y, x).fit() # ols fit\n",
    "print(model.summary()) # print fit result"
   ]
  },
  {
   "cell_type": "code",
   "execution_count": null,
   "metadata": {},
   "outputs": [],
   "source": []
  }
 ],
 "metadata": {
  "kernelspec": {
   "display_name": "Python 3",
   "language": "python",
   "name": "python3"
  },
  "language_info": {
   "codemirror_mode": {
    "name": "ipython",
    "version": 3
   },
   "file_extension": ".py",
   "mimetype": "text/x-python",
   "name": "python",
   "nbconvert_exporter": "python",
   "pygments_lexer": "ipython3",
   "version": "3.8.5"
  }
 },
 "nbformat": 4,
 "nbformat_minor": 2
}