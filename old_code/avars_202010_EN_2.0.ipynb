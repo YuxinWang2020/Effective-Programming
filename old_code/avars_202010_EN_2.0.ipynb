{
 "cells": [
  {
   "cell_type": "code",
   "execution_count": null,
   "metadata": {},
   "outputs": [],
   "source": [
    "import pandas as pd\n",
    "import numpy as np\n",
    "import pickle"
   ]
  },
  {
   "cell_type": "code",
   "execution_count": null,
   "metadata": {},
   "outputs": [],
   "source": [
    "data = pd.read_pickle(\"../src/original_data/covid_data_2020_03.pickle\")\n",
    "data"
   ]
  },
  {
   "cell_type": "code",
   "execution_count": null,
   "metadata": {},
   "outputs": [],
   "source": [
    "Q3_Q10 = data[['avoid_busy_places','avoid_public_places','maintain_distance','adjust_school_work','quarantine_symptoms', 'quarantine_no_symptoms','no_avoidance_behaviors', 'comply_curfew_self']].dropna(axis=0, how='any')\n",
    "# Q3_Q10 = Q3_Q10.query('comply_curfew_self==\"yes\"')\n",
    "Q3_Q10"
   ]
  },
  {
   "cell_type": "code",
   "execution_count": null,
   "metadata": {},
   "outputs": [],
   "source": [
    "# Q3_Q10_none = Q3_Q10.query('no_avoidance_behaviors==1')\n",
    "# Q3_Q10_none"
   ]
  },
  {
   "cell_type": "code",
   "execution_count": null,
   "metadata": {},
   "outputs": [],
   "source": [
    "Q3_Q10.insert(7,\"sum\", 0)\n",
    "Q3_Q10.loc[Q3_Q10['no_avoidance_behaviors']!=1 & (Q3_Q10['comply_curfew_self'] != \"no\"), 'sum'] = Q3_Q10.loc[Q3_Q10['no_avoidance_behaviors']!=1 & (Q3_Q10['comply_curfew_self'] != \"no\"),\n",
    "   ['avoid_busy_places','avoid_public_places','maintain_distance',\n",
    "    'adjust_school_work','quarantine_symptoms', 'quarantine_no_symptoms']].sum(axis='columns')"
   ]
  },
  {
   "cell_type": "code",
   "execution_count": null,
   "metadata": {},
   "outputs": [],
   "source": [
    "background = pd.read_pickle(\"../src/original_data/background_data_merged.pickle\")\n",
    "background"
   ]
  },
  {
   "cell_type": "code",
   "execution_count": null,
   "metadata": {},
   "outputs": [],
   "source": [
    "select_background = background.loc[:, [\"hh_id\",\"age\",\"age_group\",\"female\",\"education_cbs\",\"hh_members\",\"hh_children\",\"dom_situation\",\"location_urban\"]].dropna(axis=0, how='any')\n",
    "select_background"
   ]
  },
  {
   "cell_type": "code",
   "execution_count": null,
   "metadata": {},
   "outputs": [],
   "source": [
    "merge_data = Q3_Q10.join(select_background, on=\"personal_id\", how=\"inner\")\n",
    "merge_data"
   ]
  },
  {
   "cell_type": "code",
   "execution_count": null,
   "metadata": {},
   "outputs": [],
   "source": [
    "labels = [\"{0} - {1}\".format(i, i + 9) for i in range(0, 100, 10)]\n",
    "merge_data[\"age_group_by10\"] = pd.cut(merge_data.age, range(0, 105, 10), right=False, labels=labels)\n",
    "merge_data[[\"age\",\"age_group_by10\"]]"
   ]
  },
  {
   "cell_type": "code",
   "execution_count": null,
   "metadata": {},
   "outputs": [],
   "source": [
    "# [\"age\",\"age_group\",\"female\",\"education_cbs\",\"hh_members\",\"hh_children\",\"dom_situation\",\"location_urban\"]\n",
    "female = merge_data['female'].value_counts().to_frame()\n",
    "education_cbs = merge_data['education_cbs'].value_counts().to_frame()\n",
    "dom_situation = merge_data['dom_situation'].value_counts().to_frame()\n",
    "age_group = merge_data['age_group'].value_counts().to_frame()\n",
    "age_group_by10 = merge_data['age_group_by10'].value_counts().to_frame()\n",
    "hh_members = merge_data['hh_members'].value_counts().to_frame()\n",
    "hh_children = merge_data['hh_children'].value_counts().to_frame()\n",
    "location_urban = merge_data['location_urban'].value_counts().to_frame()\n",
    "\n",
    "\n",
    "value_counts = pd.DataFrame().append(\n",
    "    [female.columns.tolist()+[\"\"]]\n",
    ").append(\n",
    "    female.reset_index().set_axis([0,1], axis='columns')\n",
    ").append(\n",
    "    [education_cbs.columns.tolist()+[\"\"]]\n",
    ").append(\n",
    "    education_cbs.reset_index().set_axis([0,1], axis='columns')\n",
    ").append(\n",
    "    [dom_situation.columns.tolist()+[\"\"]]\n",
    ").append(\n",
    "    dom_situation.reset_index().set_axis([0,1], axis='columns')\n",
    ").append(\n",
    "    [age_group.columns.tolist()+[\"\"]]\n",
    ").append(\n",
    "    age_group.reset_index().set_axis([0,1], axis='columns')\n",
    ").append(\n",
    "    [age_group_by10.columns.tolist()+[\"\"]]\n",
    ").append(\n",
    "    age_group_by10.reset_index().set_axis([0,1], axis='columns')\n",
    ").append(\n",
    "    [hh_members.columns.tolist()+[\"\"]]\n",
    ").append(\n",
    "    hh_members.reset_index().set_axis([0,1], axis='columns')\n",
    ").append(\n",
    "    [hh_children.columns.tolist()+[\"\"]]\n",
    ").append(\n",
    "    hh_children.reset_index().set_axis([0,1], axis='columns')\n",
    ").append(\n",
    "    [location_urban.columns.tolist()+[\"\"]]\n",
    ").append(\n",
    "    location_urban.reset_index().set_axis([0,1], axis='columns')\n",
    ").set_axis([\"value\", \"counts\"], axis='columns').reset_index(drop=True)\n",
    "\n",
    "value_counts.to_csv(\"../bld/tables/value_counts.csv\", index=False)"
   ]
  },
  {
   "cell_type": "code",
   "execution_count": null,
   "metadata": {
    "scrolled": true
   },
   "outputs": [],
   "source": [
    "print(dict(enumerate(merge_data['age_group'].cat.categories)))\n",
    "print(dict(enumerate(merge_data['age_group_by10'].cat.categories)))\n",
    "dict(enumerate(merge_data['education_cbs'].cat.categories))"
   ]
  },
  {
   "cell_type": "code",
   "execution_count": null,
   "metadata": {},
   "outputs": [],
   "source": [
    "dict(enumerate(merge_data['dom_situation'].cat.categories))"
   ]
  },
  {
   "cell_type": "code",
   "execution_count": null,
   "metadata": {},
   "outputs": [],
   "source": [
    "dict(enumerate(merge_data['location_urban'].cat.categories))"
   ]
  },
  {
   "cell_type": "code",
   "execution_count": null,
   "metadata": {},
   "outputs": [],
   "source": [
    "merge_data['edu_index'] = merge_data['education_cbs'].cat.codes.replace({7:1,0:2,1:3,2:4,3:5,4:6,5:7,6:np.nan})\n",
    "merge_data['age_index'] = merge_data['age_group'].cat.codes.replace({0:1, 1:2, 2:3})\n",
    "merge_data['age_by10_index'] = merge_data['age_group_by10'].cat.codes.replace({i:(i+1) for i in dict(enumerate(merge_data['age_group_by10'].cat.categories)).keys()})\n",
    "merge_data['dom_situation_index'] = merge_data['dom_situation'].cat.codes.replace({2:1,3:1,4:1})\n",
    "merge_data['hh_members_dummy'] = (merge_data['hh_members']>1).astype(int)\n",
    "merge_data['hh_children_dummy'] = (merge_data['hh_children']>0).astype(int)\n",
    "merge_data['location_urban_index'] = 5 - merge_data['location_urban'].cat.codes\n",
    "merge_data['age'] = merge_data['age'].astype('int')\n",
    "merge_data.head(5)"
   ]
  },
  {
   "cell_type": "code",
   "execution_count": null,
   "metadata": {},
   "outputs": [],
   "source": [
    "print(f\"number of observations: {merge_data.shape[0]}\")\n",
    "individuals = merge_data.index.to_frame()['personal_id'].drop_duplicates().values\n",
    "print(f\"number of individuals: {len(individuals)}\")\n",
    "print(f\"number of households: {len(merge_data['hh_id'].drop_duplicates().values)}\")"
   ]
  },
  {
   "cell_type": "code",
   "execution_count": null,
   "metadata": {},
   "outputs": [],
   "source": [
    "corr= merge_data.corr(method='pearson')[[\"sum\"]]\n",
    "corr.to_csv(\"../bld/tables/corr.csv\")\n",
    "corr"
   ]
  },
  {
   "cell_type": "code",
   "execution_count": null,
   "metadata": {
    "tags": []
   },
   "outputs": [],
   "source": [
    "import statsmodels.api as sm\n",
    "import matplotlib.pyplot as plt\n",
    "\n",
    "plt.rcParams['savefig.dpi'] = 300\n",
    "plt.rcParams['figure.dpi'] = 300\n"
   ]
  },
  {
   "cell_type": "code",
   "execution_count": null,
   "metadata": {},
   "outputs": [],
   "source": [
    "\n",
    "y = merge_data.loc[:, \"sum\"]\n",
    "x = merge_data.loc[:, ['age','edu_index','female','dom_situation_index','hh_members_dummy','hh_children_dummy','location_urban_index']]\n",
    "x.insert(1,'age_square', merge_data.loc[:,'age'].pow(2))\n",
    "# x.insert(2,'age_cube', merge_data.loc[:, 'age'].pow(3))\n",
    "\n",
    "x = sm.add_constant(x) # add constant if need intercept\n",
    "model = sm.OLS(y, x).fit() # ols fit\n",
    "print(model.summary()) # print fit result\n",
    "with open(\"../bld/tables/age_square.csv\", 'w') as f:\n",
    "    f.write(model.summary().tables[1].as_csv())\n",
    "    \n",
    "import seaborn as sns\n",
    "coef = model.params\n",
    "sns.regplot(x=\"age\", y=\"sum\", data=merge_data, x_jitter = 0.2, y_jitter = 0.5, scatter_kws = {'alpha' : 1/3}, fit_reg=False)\n",
    "x=np.arange(0,100, 0.1)\n",
    "y=[coef['age_square']*i**2 + coef['age']*i + coef['const'] for i in x]\n",
    "sns.lineplot(x, y)\n",
    "# plt.show()\n",
    "plt.savefig(\"../bld/figures/age_square.png\")\n"
   ]
  },
  {
   "cell_type": "code",
   "execution_count": null,
   "metadata": {},
   "outputs": [],
   "source": [
    "\n",
    "y = merge_data.loc[:, \"sum\"]\n",
    "x = merge_data.loc[:, ['age_index','edu_index','female','dom_situation_index','hh_members_dummy','hh_children_dummy','location_urban_index']]\n",
    "x.insert(1,'age_index_square', merge_data.loc[:,'age_index'].pow(2))\n",
    "x.insert(2,'age_index_cube', merge_data.loc[:, 'age_index'].pow(3))\n",
    "\n",
    "x = sm.add_constant(x) # add constant if need intercept\n",
    "model = sm.OLS(y, x).fit() # ols fit\n",
    "print(model.summary()) # print fit result\n",
    "with open(\"../bld/tables/age_index_cube.csv\", 'w') as f:\n",
    "    f.write(model.summary().tables[1].as_csv())\n",
    "\n",
    "import seaborn as sns\n",
    "coef = model.params\n",
    "sns.regplot(x=\"age_index\", y=\"sum\", data=merge_data, x_jitter = 0.2, y_jitter = 0.5, scatter_kws = {'alpha' : 1/3}, fit_reg=False)\n",
    "x=np.arange(0.5,3.5, 0.1)\n",
    "y=[coef['age_index_cube']*i**3 + coef['age_index_square']*i**2 + coef['age_index']*i + coef['const'] for i in x]\n",
    "sns.lineplot(x, y)\n",
    "# plt.show()\n",
    "plt.savefig(\"../bld/figures/age_index_cube.png\")"
   ]
  },
  {
   "cell_type": "code",
   "execution_count": null,
   "metadata": {},
   "outputs": [],
   "source": [
    "\n",
    "y = merge_data.loc[:, \"sum\"]\n",
    "x = merge_data.loc[:, ['age_by10_index','edu_index','female','dom_situation_index','hh_members_dummy','hh_children_dummy','location_urban_index']]\n",
    "x.insert(1,'age_by10_index_square', merge_data.loc[:,'age_by10_index'].pow(2))\n",
    "x.insert(2,'age_by10_index_cube', merge_data.loc[:, 'age_by10_index'].pow(3))\n",
    "\n",
    "x = sm.add_constant(x) # add constant if need intercept\n",
    "model = sm.OLS(y, x).fit() # ols fit\n",
    "print(model.summary()) # print fit result\n",
    "with open(\"../bld/tables/age_by10_index_cube.csv\", 'w') as f:\n",
    "    f.write(model.summary().tables[1].as_csv())\n",
    "\n",
    "import seaborn as sns\n",
    "\n",
    "coef = model.params\n",
    "sns.regplot(x=\"age_by10_index\", y=\"sum\", data=merge_data, x_jitter = 0.2, y_jitter = 0.5, scatter_kws = {'alpha' : 1/3}, fit_reg=False)\n",
    "x=np.arange(1,10, 0.1)\n",
    "y=[coef['age_by10_index_cube']*i**3 + coef['age_by10_index_square']*i**2 + coef['age_by10_index']*i + coef['const'] for i in x]\n",
    "sns.lineplot(x, y)\n",
    "# plt.show()\n",
    "plt.savefig(\"../bld/figures/age_by10_index_cube.png\")"
   ]
  },
  {
   "cell_type": "code",
   "execution_count": null,
   "metadata": {},
   "outputs": [],
   "source": []
  }
 ],
 "metadata": {
  "kernelspec": {
   "display_name": "Python 3",
   "language": "python",
   "name": "python3"
  },
  "language_info": {
   "codemirror_mode": {
    "name": "ipython",
    "version": 3
   },
   "file_extension": ".py",
   "mimetype": "text/x-python",
   "name": "python",
   "nbconvert_exporter": "python",
   "pygments_lexer": "ipython3",
   "version": "3.8.3-final"
  }
 },
 "nbformat": 4,
 "nbformat_minor": 2
}